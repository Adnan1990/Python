{
 "cells": [
  {
   "cell_type": "code",
   "execution_count": 7,
   "metadata": {
    "collapsed": false
   },
   "outputs": [
    {
     "name": "stdout",
     "output_type": "stream",
     "text": [
      "          Twinkle, twinkle, little star,\n",
      "                How I wonder what you are!\n",
      "                      Up above the world so high,\n",
      "                      Like a diamond in the sky.\n",
      "          Twinkle, twinkle, little star,\n",
      "                How I wonder what you are\n"
     ]
    }
   ],
   "source": [
    "space = \" \"\n",
    "print(space*10+\"Twinkle, twinkle, little star,\")\n",
    "print(space*16+\"How I wonder what you are!\")\n",
    "print(space*22+\"Up above the world so high,\")\n",
    "print(space*22+\"Like a diamond in the sky.\")\n",
    "print(space*10+\"Twinkle, twinkle, little star,\")\n",
    "print(space*16+\"How I wonder what you are\")"
   ]
  },
  {
   "cell_type": "code",
   "execution_count": 2,
   "metadata": {
    "collapsed": false
   },
   "outputs": [
    {
     "name": "stdout",
     "output_type": "stream",
     "text": [
      "Python Version \n",
      "3.6.8 (default, Oct  7 2019, 12:59:55) \n",
      "[GCC 8.3.0]\n"
     ]
    }
   ],
   "source": [
    "import sys\n",
    "print(\"Python Version \\n\" + sys.version)"
   ]
  },
  {
   "cell_type": "code",
   "execution_count": 3,
   "metadata": {
    "collapsed": false
   },
   "outputs": [
    {
     "name": "stdout",
     "output_type": "stream",
     "text": [
      "Current Date and Time:  2019-11-21 10:51:34.745243\n"
     ]
    }
   ],
   "source": [
    "import datetime\n",
    "print(\"Current Date and Time: \", datetime.datetime.now())"
   ]
  },
  {
   "cell_type": "code",
   "execution_count": 4,
   "metadata": {
    "cocalc": {
     "outputs": {
      "0": {
       "name": "input",
       "opts": {
        "password": false,
        "prompt": "Please Enter radius of the circle :"
       },
       "output_type": "stream",
       "value": "4"
      }
     }
    },
    "collapsed": false
   },
   "outputs": [
    {
     "name": "stdout",
     "output_type": "stream",
     "text": "Please Enter radius of the circle : 4"
    },
    {
     "name": "stdout",
     "output_type": "stream",
     "text": [
      "Area of the circle is :  50.26548245743669\n"
     ]
    }
   ],
   "source": [
    "import math\n",
    "radius = float(input(\"Please Enter radius of the circle :\"))\n",
    "def print_area(r):\n",
    "    area = math.pi*r*r\n",
    "    print(\"Area of the circle is : \", area)\n",
    "print_area(radius)"
   ]
  },
  {
   "cell_type": "code",
   "execution_count": 5,
   "metadata": {
    "cocalc": {
     "outputs": {
      "0": {
       "name": "input",
       "opts": {
        "password": false,
        "prompt": "Please enter your first name :"
       },
       "output_type": "stream",
       "value": "20"
      },
      "1": {
       "name": "input",
       "opts": {
        "password": false,
        "prompt": "Please enter your last name :"
       },
       "output_type": "stream",
       "value": "50"
      }
     }
    },
    "collapsed": false
   },
   "outputs": [
    {
     "name": "stdout",
     "output_type": "stream",
     "text": "Please enter your first name : 20"
    },
    {
     "name": "stdout",
     "output_type": "stream",
     "text": "Please enter your last name : 50"
    },
    {
     "name": "stdout",
     "output_type": "stream",
     "text": [
      "50 20\n"
     ]
    }
   ],
   "source": [
    "firstName = input(\"Please enter your first name :\")\n",
    "lastName = input(\"Please enter your last name :\")\n",
    "\n",
    "\n",
    "def full_name(fName, lName):\n",
    "    print(lName+\" \"+fName)\n",
    "\n",
    "\n",
    "full_name(firstName, lastName)"
   ]
  },
  {
   "cell_type": "code",
   "execution_count": 6,
   "metadata": {
    "cocalc": {
     "outputs": {
      "0": {
       "name": "input",
       "opts": {
        "password": false,
        "prompt": "Please Enter first number :"
       },
       "output_type": "stream",
       "value": "12"
      },
      "1": {
       "name": "input",
       "opts": {
        "password": false,
        "prompt": "Please Enter second number :"
       },
       "output_type": "stream",
       "value": "45"
      }
     }
    },
    "collapsed": false
   },
   "outputs": [
    {
     "name": "stdout",
     "output_type": "stream",
     "text": "Please Enter first number : 12"
    },
    {
     "name": "stdout",
     "output_type": "stream",
     "text": "Please Enter second number : 45"
    },
    {
     "name": "stdout",
     "output_type": "stream",
     "text": [
      "Addition is : 57.0\n"
     ]
    }
   ],
   "source": [
    "firstNumber = float(input(\"Please Enter first number :\"))\n",
    "secondNumber = float(input(\"Please Enter second number :\"))\n",
    "\n",
    "\n",
    "def addition(first, second):\n",
    "    print(\"Addition is :\", firstNumber+secondNumber)\n",
    "\n",
    "\n",
    "addition(firstNumber, secondNumber)"
   ]
  },
  {
   "cell_type": "code",
   "execution_count": 0,
   "metadata": {
    "collapsed": false
   },
   "outputs": [
   ],
   "source": [
   ]
  }
 ],
 "metadata": {
  "kernelspec": {
   "display_name": "Python 3 (system-wide)",
   "language": "python",
   "metadata": {
    "cocalc": {
     "description": "Python 3 programming language",
     "priority": 100,
     "url": "https://www.python.org/"
    }
   },
   "name": "python3"
  },
  "language_info": {
   "codemirror_mode": {
    "name": "ipython",
    "version": 3
   },
   "file_extension": ".py",
   "mimetype": "text/x-python",
   "name": "python",
   "nbconvert_exporter": "python",
   "pygments_lexer": "ipython3",
   "version": "3.6.8"
  }
 },
 "nbformat": 4,
 "nbformat_minor": 0
}