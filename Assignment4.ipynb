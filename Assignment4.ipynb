{
 "cells": [
  {
   "cell_type": "code",
   "execution_count": 8,
   "metadata": {
    "collapsed": false
   },
   "outputs": [
    {
     "name": "stdout",
     "output_type": "stream",
     "text": [
      "{'first_name': 'Muhammad', 'last_name': 'Ali', 'age': 30, 'city': 'Islamabad'}\n",
      "{'first_name': 'Muhammad', 'last_name': 'Ali', 'age': 30, 'city': 'Islamabad', 'qualification': 'Graduate'}\n",
      "{'first_name': 'Muhammad', 'last_name': 'Ali', 'age': 30, 'city': 'Islamabad', 'qualification': 'High Academic Level'}\n",
      "{'first_name': 'Muhammad', 'last_name': 'Ali', 'age': 30, 'city': 'Islamabad'}\n"
     ]
    }
   ],
   "source": [
    "''' Q1 Use a dictionary to store information about a person you know. Store their first name, last name, age,\n",
    "and the city in which they live. You should have keys such as first_name, last_name, age, and city.'''\n",
    "\n",
    "person = {\n",
    "    \"first_name\":\"Muhammad\",\n",
    "    \"last_name\":\"Ali\",\n",
    "    \"age\":30,\n",
    "    \"city\":\"Islamabad\",\n",
    "}\n",
    "\n",
    "# Print each piece of information stored in your dictionary.\n",
    "print(person)\n",
    "# Add a new key value pair about qualification\n",
    "person[\"qualification\"] = \"Graduate\"\n",
    "print(person)\n",
    "# update the qualification value to high academic level\n",
    "person[\"qualification\"] = \"High Academic Level\"\n",
    "print(person)\n",
    "\n",
    "# delete qualification from dictionary\n",
    "del person[\"qualification\"]\n",
    "print(person)"
   ]
  },
  {
   "cell_type": "code",
   "execution_count": 18,
   "metadata": {
    "collapsed": false
   },
   "outputs": [
    {
     "name": "stdout",
     "output_type": "stream",
     "text": [
      "{'Multan': {'country': 'Pakistan', 'population': '1.872 million', 'fact': 'The City Of Saints!'}, 'Paris': {'country': 'France', 'population': '2.141 million', 'fact': 'Paris was originally a Roman City called “Lutetia.'}, 'Karachi': {'country': 'Pakistan', 'population': '14.91 million', 'fact': 'The City Of Lights And Lively People!'}}\n",
      "\n",
      "\n",
      "\n",
      "Multan : {'country': 'Pakistan', 'population': '1.872 million', 'fact': 'The City Of Saints!'}\n",
      "Paris : {'country': 'France', 'population': '2.141 million', 'fact': 'Paris was originally a Roman City called “Lutetia.'}\n",
      "Karachi : {'country': 'Pakistan', 'population': '14.91 million', 'fact': 'The City Of Lights And Lively People!'}\n"
     ]
    }
   ],
   "source": [
    "'''Q2 Make a dictionary called cities. Use the names of three cities as keys in your dictionary.\n",
    "Create a dictionary of information about each city and include the country that the city is in, its approximate population, and one fact about that city.\n",
    "The keys for each city’s dictionary should be something like country, population, and fact.'''\n",
    "\n",
    "cities = {\n",
    "    \"Multan\":{\n",
    "        \"country\":\"Pakistan\",\n",
    "        \"population\":\"1.872 million\",\n",
    "        \"fact\" :\"The City Of Saints!\"\n",
    "    },\n",
    "    \"Paris\":{\n",
    "        \"country\":\"France\",\n",
    "        \"population\":\"2.141 million\",\n",
    "        \"fact\" :\"Paris was originally a Roman City called “Lutetia.\"\n",
    "    },\n",
    "    \"Karachi\":{\n",
    "        \"country\":\"Pakistan\",\n",
    "        \"population\":\"14.91 million\",\n",
    "        \"fact\" :\"The City Of Lights And Lively People!\"\n",
    "    }\n",
    "}\n",
    "\n",
    "# Print the name of each city and all of the information you have stored about it.\n",
    "print(cities)\n",
    "\n",
    "print(\"\\n\\n\")\n",
    "\n",
    "for city,city_info in cities.items():{\n",
    "        print(city,\":\",city_info)\n",
    "    }"
   ]
  },
  {
   "cell_type": "code",
   "execution_count": 38,
   "metadata": {
    "cocalc": {
     "outputs": {
      "0": {
       "name": "input",
       "opts": {
        "password": false,
        "prompt": "How many times you would like to check ticket price?"
       },
       "output_type": "stream",
       "value": "3"
      },
      "1": {
       "name": "input",
       "opts": {
        "password": false,
        "prompt": "Please provide your age in years : "
       },
       "output_type": "stream",
       "value": "2"
      },
      "3": {
       "name": "input",
       "opts": {
        "password": false,
        "prompt": "Please provide your age in years : "
       },
       "output_type": "stream",
       "value": "9"
      },
      "5": {
       "name": "input",
       "opts": {
        "password": false,
        "prompt": "Please provide your age in years : "
       },
       "output_type": "stream",
       "value": "20"
      }
     }
    },
    "collapsed": false
   },
   "outputs": [
    {
     "name": "stdout",
     "output_type": "stream",
     "text": "How many times you would like to check ticket price? 3"
    },
    {
     "name": "stdout",
     "output_type": "stream",
     "text": "Please provide your age in years :  2"
    },
    {
     "name": "stdout",
     "output_type": "stream",
     "text": [
      "Your ticket is free \n"
     ]
    },
    {
     "name": "stdout",
     "output_type": "stream",
     "text": "Please provide your age in years :  9"
    },
    {
     "name": "stdout",
     "output_type": "stream",
     "text": [
      "Your ticket is $10 \n"
     ]
    },
    {
     "name": "stdout",
     "output_type": "stream",
     "text": "Please provide your age in years :  20"
    },
    {
     "name": "stdout",
     "output_type": "stream",
     "text": [
      "Your ticket is $15 \n"
     ]
    }
   ],
   "source": [
    "'''Q3 A movie theater charges different ticket prices depending on a person’s age.\n",
    "If a person is under the age of 3, the ticket is free; if they are between 3 and 12, the ticket is $10; and if they are over age 12, the ticket is $15. \n",
    "Write a loop in which you ask users their age, and then tell them the cost of their movie ticket.'''\n",
    "\n",
    "\n",
    "def get_price(age):\n",
    "    if age < 3 :\n",
    "        print(\"Your ticket is free \")\n",
    "    elif age >= 3 and  age <= 12 :\n",
    "        print(\"Your ticket is $10 \")\n",
    "    else:\n",
    "        print(\"Your ticket is $15 \")\n",
    "\n",
    "\n",
    "number_of_persons = int(input(\"How many times you would like to check ticket price?\"))\n",
    "\n",
    "for i in range (0, number_of_persons):\n",
    "    age = int(input(\"Please provide your age in years : \"))\n",
    "    get_price(age)\n",
    "\n",
    "\n"
   ]
  },
  {
   "cell_type": "code",
   "execution_count": 43,
   "metadata": {
    "cocalc": {
     "outputs": {
      "0": {
       "name": "input",
       "opts": {
        "password": false,
        "prompt": "Please provide your favourite book title : "
       },
       "output_type": "stream",
       "value": "Holy Quran"
      }
     }
    },
    "collapsed": false
   },
   "outputs": [
    {
     "name": "stdout",
     "output_type": "stream",
     "text": "Please provide your favourite book title :  Holy Quran"
    },
    {
     "name": "stdout",
     "output_type": "stream",
     "text": [
      "One of my favourite books is  Holy Quran\n"
     ]
    }
   ],
   "source": [
    "'''Q4 Write a function called favorite_book() that accepts one parameter, title.\n",
    "The function should print a message, such as One of my favorite books is Alice in Wonderland.\n",
    "Call the function, making sure to include a book title as an argument in the function call.'''\n",
    "\n",
    "def favorite_book(title):\n",
    "    print(\"One of my favourite books is \",title)\n",
    "\n",
    "book_title = input(\"Please provide your favourite book title : \")\n",
    "favorite_book(book_title)"
   ]
  },
  {
   "cell_type": "code",
   "execution_count": 54,
   "metadata": {
    "cocalc": {
     "outputs": {
      "0": {
       "name": "input",
       "opts": {
        "password": false,
        "prompt": "Gues the number "
       },
       "output_type": "stream",
       "value": "20"
      },
      "2": {
       "name": "input",
       "opts": {
        "password": false,
        "prompt": "Gues the number "
       },
       "output_type": "stream",
       "value": "13"
      },
      "4": {
       "name": "input",
       "opts": {
        "password": false,
        "prompt": "Gues the number "
       },
       "output_type": "stream",
       "value": "9"
      }
     }
    },
    "collapsed": false
   },
   "outputs": [
    {
     "name": "stdout",
     "output_type": "stream",
     "text": "Gues the number  20"
    },
    {
     "name": "stdout",
     "output_type": "stream",
     "text": [
      "Hidden number is smaller than your predicted number\n"
     ]
    },
    {
     "name": "stdout",
     "output_type": "stream",
     "text": "Gues the number  13"
    },
    {
     "name": "stdout",
     "output_type": "stream",
     "text": [
      "Hidden number is smaller than your predicted number\n"
     ]
    },
    {
     "name": "stdout",
     "output_type": "stream",
     "text": "Gues the number  9"
    },
    {
     "name": "stdout",
     "output_type": "stream",
     "text": [
      "Hidden number is smaller than your predicted number\n",
      "\n",
      "Game over\n",
      "You lost\n"
     ]
    }
   ],
   "source": [
    "'''Q5\n",
    "Guess the number game\n",
    "Write a program which randomly generate a number between 1 to 30 and ask the user in input field to guess the correct number.\n",
    "Give three chances to user guess the number and also give hint to user if hidden number is greater or smaller than the number he given to input field.\n",
    "'''\n",
    "\n",
    "import random\n",
    "\n",
    "# Give hint to user if hidden number is greater or smaller than the number he given to input field\n",
    "def get_hint(number,random_number):\n",
    "    if number > random_number:\n",
    "        print(\"Hidden number is smaller than your predicted number\")\n",
    "    elif number < random_number:\n",
    "        print(\"Hidden number is greater than your predicted number\")\n",
    "    else:\n",
    "        print(\"Correct prediction\")\n",
    "\n",
    "\n",
    "\n",
    "# Write a program which randomly generate a number between 1 to 30\n",
    "random_number = random.randint(1,30)\n",
    "\n",
    "# Give three chances to user guess the number\n",
    "gues = False\n",
    "chance=0\n",
    "\n",
    "\n",
    "while chance < 3:\n",
    "    chance+=1\n",
    "    #ask the user in input field to guess the correct number\n",
    "    gues_number=int(input(\"Gues the number \"))\n",
    "    if gues_number == random_number:\n",
    "        gues = True\n",
    "        break\n",
    "    else:\n",
    "        get_hint(gues_number,random_number)\n",
    "\n",
    "print(\"\\nGame over\")\n",
    "if gues == True:\n",
    "    print(\"You won\")\n",
    "else:\n",
    "    print (\"You lost\")\n",
    "\n",
    "\n",
    "\n"
   ]
  },
  {
   "cell_type": "code",
   "execution_count": 0,
   "metadata": {
    "collapsed": false
   },
   "outputs": [
   ],
   "source": [
   ]
  },
  {
   "cell_type": "code",
   "execution_count": 0,
   "metadata": {
    "collapsed": false
   },
   "outputs": [
   ],
   "source": [
   ]
  }
 ],
 "metadata": {
  "kernelspec": {
   "display_name": "Python 3 (system-wide)",
   "language": "python",
   "metadata": {
    "cocalc": {
     "description": "Python 3 programming language",
     "priority": 100,
     "url": "https://www.python.org/"
    }
   },
   "name": "python3"
  }
 },
 "nbformat": 4,
 "nbformat_minor": 0
}