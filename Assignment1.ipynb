{
 "cells": [
  {
   "cell_type": "markdown",
   "metadata": {},
   "source": []
  },
  {
   "cell_type": "code",
   "execution_count": 2,
   "metadata": {},
   "outputs": [
    {
     "name": "stdout",
     "output_type": "stream",
     "text": [
      "          Twinkle, twinkle, little star,\n",
      "                How I wonder what you are!\n",
      "                      Up above the world so high,\n",
      "                      Like a diamond in the sky.\n",
      "          Twinkle, twinkle, little star,\n",
      "                How I wonder what you are\n"
     ]
    }
   ],
   "source": [
    "space = \" \"\n",
    "print(space*10+\"Twinkle, twinkle, little star,\")\n",
    "print(space*16+\"How I wonder what you are!\")\n",
    "print(space*22+\"Up above the world so high,\")\n",
    "print(space*22+\"Like a diamond in the sky.\")\n",
    "print(space*10+\"Twinkle, twinkle, little star,\")\n",
    "print(space*16+\"How I wonder what you are\")"
   ]
  },
  {
   "cell_type": "code",
   "execution_count": 3,
   "metadata": {},
   "outputs": [
    {
     "name": "stdout",
     "output_type": "stream",
     "text": [
      "Python Version \n",
      "3.6.7 | packaged by conda-forge | (default, Jul  2 2019, 02:18:42) \n",
      "[GCC 7.3.0]\n"
     ]
    }
   ],
   "source": [
    "import sys\n",
    "print(\"Python Version \\n\" + sys.version)"
   ]
  },
  {
   "cell_type": "code",
   "execution_count": 6,
   "metadata": {},
   "outputs": [
    {
     "name": "stdout",
     "output_type": "stream",
     "text": [
      "Current Date and Time:  2019-11-03 13:33:51.767316\n"
     ]
    }
   ],
   "source": [
    "import datetime\n",
    "print(\"Current Date and Time: \", datetime.datetime.now())"
   ]
  },
  {
   "cell_type": "code",
   "execution_count": 7,
   "metadata": {},
   "outputs": [
    {
     "name": "stdout",
     "output_type": "stream",
     "text": [
      "Please Enter radius of the circle :4\n",
      "Area of the circle is :  50.26548245743669\n"
     ]
    }
   ],
   "source": [
    "import math\n",
    "radius = float(input(\"Please Enter radius of the circle :\"))\n",
    "def print_area(r):\n",
    "    area = math.pi*r*r\n",
    "    print(\"Area of the circle is : \", area)\n",
    "print_area(radius)"
   ]
  },
  {
   "cell_type": "code",
   "execution_count": 9,
   "metadata": {},
   "outputs": [
    {
     "name": "stdout",
     "output_type": "stream",
     "text": [
      "Please enter your first name Adnan\n",
      "Please enter your last name Rao\n",
      "Rao Adnan\n"
     ]
    }
   ],
   "source": [
    "firstName = input(\"Please enter your first name \")\n",
    "lastName = input(\"Please enter your last name \")\n",
    "\n",
    "\n",
    "def full_name(fName, lName):\n",
    "    print(lName+\" \"+fName)\n",
    "\n",
    "\n",
    "full_name(firstName, lastName)"
   ]
  },
  {
   "cell_type": "code",
   "execution_count": 10,
   "metadata": {},
   "outputs": [
    {
     "name": "stdout",
     "output_type": "stream",
     "text": [
      "Please Enter first number :25\n",
      "Please Enter second number :50\n",
      "Addition is : 75.0\n"
     ]
    }
   ],
   "source": [
    "firstNumber = float(input(\"Please Enter first number :\"))\n",
    "secondNumber = float(input(\"Please Enter second number :\"))\n",
    "\n",
    "\n",
    "def sum(first, second):\n",
    "    print(\"Addition is :\", firstNumber+secondNumber)\n",
    "\n",
    "\n",
    "sum(firstNumber, secondNumber)"
   ]
  },
  {
   "cell_type": "markdown",
   "metadata": {},
   "source": [
    "This repo contains an introduction to [Jupyter](https://jupyter.org) and [IPython](https://ipython.org).\n",
    "\n",
    "Outline of some basics:\n",
    "\n",
    "* [Notebook Basics](../examples/Notebook/Notebook%20Basics.ipynb)\n",
    "* [IPython - beyond plain python](../examples/IPython%20Kernel/Beyond%20Plain%20Python.ipynb)\n",
    "* [Markdown Cells](../examples/Notebook/Working%20With%20Markdown%20Cells.ipynb)\n",
    "* [Rich Display System](../examples/IPython%20Kernel/Rich%20Output.ipynb)\n",
    "* [Custom Display logic](../examples/IPython%20Kernel/Custom%20Display%20Logic.ipynb)\n",
    "* [Running a Secure Public Notebook Server](../examples/Notebook/Running%20the%20Notebook%20Server.ipynb#Securing-the-notebook-server)\n",
    "* [How Jupyter works](../examples/Notebook/Multiple%20Languages%2C%20Frontends.ipynb) to run code in different languages."
   ]
  },
  {
   "cell_type": "markdown",
   "metadata": {},
   "source": [
    "You can also get this tutorial and run it on your laptop:\n",
    "\n",
    "    git clone https://github.com/ipython/ipython-in-depth\n",
    "\n",
    "Install IPython and Jupyter:\n",
    "\n",
    "with [conda](https://www.anaconda.com/download):\n",
    "\n",
    "    conda install ipython jupyter\n",
    "\n",
    "with pip:\n",
    "\n",
    "    # first, always upgrade pip!\n",
    "    pip install --upgrade pip\n",
    "    pip install --upgrade ipython jupyter\n",
    "\n",
    "Start the notebook in the tutorial directory:\n",
    "\n",
    "    cd ipython-in-depth\n",
    "    jupyter notebook"
   ]
  }
 ],
 "metadata": {
  "kernelspec": {
   "display_name": "Python 3",
   "language": "python",
   "name": "python3"
  },
  "language_info": {
   "codemirror_mode": {
    "name": "ipython",
    "version": 3
   },
   "file_extension": ".py",
   "mimetype": "text/x-python",
   "name": "python",
   "nbconvert_exporter": "python",
   "pygments_lexer": "ipython3",
   "version": "3.6.7"
  }
 },
 "nbformat": 4,
 "nbformat_minor": 2
}
