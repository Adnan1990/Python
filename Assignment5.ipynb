{
 "cells": [
  {
   "cell_type": "code",
   "execution_count": 10,
   "metadata": {},
   "outputs": [
    {
     "name": "stdout",
     "output_type": "stream",
     "text": [
      "Please enter a number to find factorial : 5\n",
      "5 != 120\n"
     ]
    }
   ],
   "source": [
    "\n",
    "'''\n",
    "Question:1\n",
    "\n",
    "Write a Python function to calculate the factorial of a number (a non-negative integer). \n",
    "The function accepts the number as an argument.\n",
    "\n",
    "'''\n",
    "number = int(input(\"Please enter a number to find factorial : \"))\n",
    "\n",
    "#  n! = n*(n-1)*(n-1)*...1\n",
    "def factorial(num):\n",
    "    if (num==1 or num==0):\n",
    "        return 1\n",
    "    else:\n",
    "        return num*factorial(num - 1) \n",
    "\n",
    "    \n",
    "factorial_of_number = factorial(number) # function calling and saving return value\n",
    "print(str(number), \"!=\",str(factorial_of_number))\n",
    "    "
   ]
  },
  {
   "cell_type": "code",
   "execution_count": 12,
   "metadata": {},
   "outputs": [
    {
     "name": "stdout",
     "output_type": "stream",
     "text": [
      "Please enter a string: AdnanRao\n",
      "Lower case characters are:\n",
      "d\n",
      "n\n",
      "a\n",
      "n\n",
      "a\n",
      "o\n",
      "Upper case characters are:\n",
      "A\n",
      "R\n"
     ]
    }
   ],
   "source": [
    "\n",
    "'''\n",
    "Question:2\n",
    "\n",
    "Write a Python function that accepts a string and calculate the number of uppercase letters and lower case letters.\n",
    "\n",
    "'''\n",
    "\n",
    "input_string = input(\"Please enter a string: \")\n",
    "\n",
    "lowercase = []\n",
    "uppercase = []\n",
    "non_alphabetics = []\n",
    "\n",
    "\n",
    "def print_values(array):\n",
    "    for value in array:\n",
    "        print(value)\n",
    "        \n",
    "def is_lower(value):\n",
    "    if value == value.lower():\n",
    "        lowercase.append(value)\n",
    "    else:\n",
    "        uppercase.append(value)\n",
    "\n",
    "\n",
    "\n",
    "#iterate each character in string input and check whether its lower case or Upper case        \n",
    "for character in input_string:\n",
    "    is_lower(character)\n",
    "\n",
    "\n",
    "\n",
    "print(\"Lower case characters are:\")\n",
    "print_values(lowercase)\n",
    "print(\"Upper case characters are:\")\n",
    "print_values(uppercase)"
   ]
  },
  {
   "cell_type": "code",
   "execution_count": 6,
   "metadata": {},
   "outputs": [
    {
     "name": "stdout",
     "output_type": "stream",
     "text": [
      "2 is even\n",
      "4 is even\n",
      "6 is even\n",
      "10 is even\n",
      "30 is even\n",
      "50 is even\n"
     ]
    }
   ],
   "source": [
    "'''\n",
    "Question:3\n",
    "\n",
    "Write a Python function to print the even numbers from a given list.\n",
    "\n",
    "'''\n",
    "array = [2,4,5,6,7,9,10,30,50,51]\n",
    "\n",
    "def check_even(array):\n",
    "    for val in array:\n",
    "        if val %2 == 0:\n",
    "            print(val, \"is even\")\n",
    "        \n",
    "check_even(array)"
   ]
  },
  {
   "cell_type": "code",
   "execution_count": 18,
   "metadata": {},
   "outputs": [
    {
     "name": "stdout",
     "output_type": "stream",
     "text": [
      "Please enter a string to check palindrome: mom\n",
      "mom is palindrome\n"
     ]
    }
   ],
   "source": [
    " '''\n",
    "Question:4\n",
    "\n",
    "Write a Python function that checks whether a passed string is palindrome or not.\n",
    "Note: A palindrome is a word, phrase, or sequence that reads the same\n",
    "backward as forward, e.g., madam\n",
    "\n",
    "'''\n",
    "input_string = input(\"Please enter a string to check palindrome: \")\n",
    "\n",
    "\n",
    "def palindrom(string):\n",
    "    half_len = int(len(string)/2)\n",
    "    full_len = len(string)\n",
    "    for i in range (0,half_len):\n",
    "        if input_string[i]!= input_string[full_len -i-1]:\n",
    "            return False\n",
    "    else:\n",
    "        return True\n",
    "\n",
    "if(palindrom(input_string)):\n",
    "    print(input_string,\"is palindrome\")\n",
    "else:\n",
    "    print(input_string,\"is not palindrome\") "
   ]
  },
  {
   "cell_type": "code",
   "execution_count": 19,
   "metadata": {},
   "outputs": [
    {
     "name": "stdout",
     "output_type": "stream",
     "text": [
      "Please enter a number for prime checking : 7\n",
      "7 is prime number\n"
     ]
    }
   ],
   "source": [
    "'''\n",
    "Question:5\n",
    " Write a Python function that takes a number as a parameter and check the\n",
    " number is prime or not.\n",
    "'''        \n",
    "number = int(input(\"Please enter a number for prime checking : \"))\n",
    "     \n",
    "def is_Prime(num):\n",
    "    if num > 1:\n",
    "        for i in range(2, num):\n",
    "            if num % i == 0:\n",
    "                return False\n",
    "        else: \n",
    "            return True\n",
    "    else: \n",
    "        return False\n",
    "\n",
    "\n",
    "if is_Prime(number):\n",
    "    print(str(number),\"is prime number\")\n",
    "else:\n",
    "    print(str(number),\"is not a prime number\")"
   ]
  },
  {
   "cell_type": "code",
   "execution_count": 17,
   "metadata": {},
   "outputs": [
    {
     "name": "stdout",
     "output_type": "stream",
     "text": [
      "***\n",
      "Parameters passed in print_item are below\n",
      "****\n",
      "Banana\n",
      "***\n",
      "Parameters passed in print_item are below\n",
      "****\n",
      "Banana\n",
      "Apple\n",
      "Mangoes\n",
      "***\n",
      "Parameters passed in print_item are below\n",
      "****\n",
      "Banana\n",
      "Apple\n",
      "Mangoes\n",
      "Oranges\n",
      "\n",
      "\n",
      "Printing Dictionary form arbitrary values \n",
      "\n",
      "***\n",
      "Parameters passed in print_item are below\n",
      "****\n",
      "email : muhammad.adnan1990@gmail.com\n",
      "rollNum : 12345\n"
     ]
    }
   ],
   "source": [
    "'''\n",
    "\n",
    "Question: 6\n",
    " \n",
    "Suppose a customer is shopping in a market and you need to print all the items\n",
    "which user bought from market.\n",
    " \n",
    "Write a function which accepts the multiple arguments of user shopping list and\n",
    "print all the items which user bought from market.\n",
    " \n",
    "'''\n",
    "\n",
    "\n",
    "item1  = \"Banana\"\n",
    "item2  = \"Apple\"\n",
    "item3  = \"Mangoes\"\n",
    "item4  = \"Oranges\"\n",
    "item5  = \"Egg\"\n",
    "\n",
    "def print_items(*names):\n",
    "    print(\"***\\nParameters passed in print_item are below\\n****\")\n",
    "    for value in names:\n",
    "        print(value)\n",
    "        \n",
    "def print_dictionary(**arguments):\n",
    "    print(\"***\\nParameters passed in print_item are below\\n****\")\n",
    "    for key,value in arguments.items():\n",
    "        print(key,\":\",value)\n",
    "        \n",
    "print_items(item1)\n",
    "print_items(item1,item2,item3)\n",
    "print_items(item1,item2,item3,item4)\n",
    "\n",
    "\n",
    "print(\"\\n\\nPrinting Dictionary form arbitrary values \\n\")\n",
    "print_dictionary(email=\"muhammad.adnan1990@gmail.com\",rollNum=\"12345\")\n",
    "\n",
    "\n"
   ]
  }
 ],
 "metadata": {
  "kernelspec": {
   "display_name": "Python 3",
   "language": "python",
   "name": "python3"
  },
  "language_info": {
   "codemirror_mode": {
    "name": "ipython",
    "version": 3
   },
   "file_extension": ".py",
   "mimetype": "text/x-python",
   "name": "python",
   "nbconvert_exporter": "python",
   "pygments_lexer": "ipython3",
   "version": "3.7.4"
  }
 },
 "nbformat": 4,
 "nbformat_minor": 2
}
