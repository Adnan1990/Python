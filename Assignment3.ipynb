{
 "cells": [
  {
   "cell_type": "code",
   "execution_count": 7,
   "metadata": {
    "cocalc": {
     "outputs": {
      "0": {
       "name": "input",
       "opts": {
        "password": false,
        "prompt": "Please enter first number: "
       },
       "output_type": "stream",
       "value": "2"
      },
      "1": {
       "name": "input",
       "opts": {
        "password": false,
        "prompt": "Please enter operator: "
       },
       "output_type": "stream",
       "value": "**"
      },
      "2": {
       "name": "input",
       "opts": {
        "password": false,
        "prompt": "Please enter second number: "
       },
       "output_type": "stream",
       "value": "3"
      }
     }
    },
    "collapsed": false
   },
   "outputs": [
    {
     "name": "stdout",
     "output_type": "stream",
     "text": "Please enter first number:  2"
    },
    {
     "name": "stdout",
     "output_type": "stream",
     "text": "Please enter operator:  **"
    },
    {
     "name": "stdout",
     "output_type": "stream",
     "text": "Please enter second number:  3"
    },
    {
     "name": "stdout",
     "output_type": "stream",
     "text": [
      "8.0 Answer\n"
     ]
    }
   ],
   "source": [
    "#1. Make a calculator using Python with addition , subtraction , multiplication , division and power.\n",
    "\n",
    "val1 = float(input(\"Please enter first number: \"))\n",
    "operator = input(\"Please enter operator: \")\n",
    "val2 = float(input(\"Please enter second number: \"))\n",
    "\n",
    "if operator == \"+\":\n",
    "    print(val1+val2,\"Answer\")\n",
    "elif operator == \"-\":\n",
    "    print(val1- val2,\"Answer\")\n",
    "elif operator == \"*\":\n",
    "    print(val1*val2,\"Answer\")\n",
    "elif operator == \"/\":\n",
    "    if val2 !=0:\n",
    "        print(val1/val2,\"Answer\")\n",
    "    else:\n",
    "        print(\"Infinity\")\n",
    "elif operator == \"**\":\n",
    "    print(val1**val2,\"Answer\")\n",
    "else:\n",
    "    print(\"\\nPlease enter correct operator\")"
   ]
  },
  {
   "cell_type": "code",
   "execution_count": 2,
   "metadata": {
    "collapsed": false
   },
   "outputs": [
    {
     "name": "stdout",
     "output_type": "stream",
     "text": [
      "[1, 3, 'Adnan', 'Python', 1.5, 4.5, 'Pakistan']  has numeric value\n"
     ]
    }
   ],
   "source": [
    "#2. Write a program to check if there is any numeric value in list using for loop\n",
    "\n",
    "array = [1,3,\"Adnan\",\"Python\",1.5,4.5,\"Pakistan\"]\n",
    "#array = [\"Adnan\",\"Python\",\"Pakistan\"]\n",
    "\n",
    "hasNumber = False\n",
    "\n",
    "def isNumeric(s):\n",
    "    try:\n",
    "        float(s)\n",
    "        return True\n",
    "    except ValueError:\n",
    "        return False\n",
    "\n",
    "for i in array:\n",
    "    if isNumeric(str(i)):\n",
    "        hasNumber = True\n",
    "        break\n",
    "\n",
    "if hasNumber:\n",
    "    print(array,\" has numeric value\")\n",
    "else:\n",
    "    print(array,\" has no numeric value\")"
   ]
  },
  {
   "cell_type": "code",
   "execution_count": 3,
   "metadata": {
    "collapsed": false
   },
   "outputs": [
    {
     "name": "stdout",
     "output_type": "stream",
     "text": [
      "{'name': 'Muhammad Adnan', 'age': 29, 'caste': 'Rao'}\n",
      "{'name': 'Muhammad Adnan', 'age': 29, 'caste': 'Rao', 'jobTitle': 'Software Engineer', 'CGPA': 3.58}\n"
     ]
    }
   ],
   "source": [
    "#3. Write a Python script to add a key to a dictionary\n",
    "student = { \"name\":\"Muhammad Adnan\",\"age\" :29, \"caste\":\"Rao\"}\n",
    "print (student)\n",
    "\n",
    "#3. Write a Python script to add a key to a dictionary \n",
    "student[\"jobTitle\"] =\"Software Engineer\"\n",
    "student[\"CGPA\"]= 3.58\n",
    "print (student)"
   ]
  },
  {
   "cell_type": "code",
   "execution_count": 4,
   "metadata": {
    "collapsed": false
   },
   "outputs": [
    {
     "name": "stdout",
     "output_type": "stream",
     "text": [
      "Sum of numeric keys is:  1050\n",
      "Sum of numeric Values is:  150029\n",
      "Sum of numeric items is:  151079\n"
     ]
    }
   ],
   "source": [
    "#4. Write a Python program to sum all the numeric items in a dictionary\n",
    "\n",
    "student = { \"name\":\"Muhammad Adnan\",\n",
    "             \"age\" :29, \n",
    "             \"caste\":\"Rao\",\n",
    "              50:\"Roll Number\",\n",
    "              1000:\"Expenses\",\n",
    "              \"Monthly Income\":150000\n",
    "          }\n",
    " \n",
    "sumNumericItems=0;\n",
    "sumNumericKeys=0;\n",
    "sumNumericValues=0;\n",
    "\n",
    "def isNumeric(s):\n",
    "    try: \n",
    "        float(s)\n",
    "        return True\n",
    "    except ValueError:\n",
    "        return False\n",
    "\n",
    "#Sum of numeric Items \n",
    "for key,value in student.items():\n",
    "    if isNumeric(str(key)):\n",
    "        sumNumericItems+=key\n",
    "        sumNumericKeys+=key\n",
    "\n",
    "    if isNumeric(str(value)):\n",
    "        sumNumericItems+=value\n",
    "        sumNumericValues+=value\n",
    "\n",
    "print(\"Sum of numeric keys is: \",sumNumericKeys)\n",
    "print(\"Sum of numeric Values is: \",sumNumericValues)\n",
    "print(\"Sum of numeric items is: \",sumNumericItems)"
   ]
  },
  {
   "cell_type": "code",
   "execution_count": 5,
   "metadata": {
    "collapsed": false
   },
   "outputs": [
    {
     "name": "stdout",
     "output_type": "stream",
     "text": [
      "Duplicates values in : ['Adnan', 1, 5, 3, 4, 3, 2, 5, 'Adnan', 'Pakistan'] are\n",
      "Adnan\n",
      "5\n",
      "3\n"
     ]
    }
   ],
   "source": [
    "#5. Write a program to identify duplicate values from list\n",
    "\n",
    "def getDuplicates(arr): \n",
    "    arraySize = len(arr) \n",
    "    duplicates = []\n",
    "\n",
    "    for i in range (0, arraySize): \n",
    "        for j in range (i + 1, arraySize): \n",
    "            if arr[i] == arr[j]: \n",
    "                duplicates.append(arr[i])\n",
    "\n",
    "    if len(duplicates)>0:\n",
    "        print(\"Duplicates values in :\",arr,\"are\")\n",
    "        for value in duplicates:\n",
    "            print(value)\n",
    "    else:\n",
    "        print(\"No duplicate items found\")\n",
    "\n",
    "array = [\"Adnan\",1, 5, 3, 4, 3, 2, 5,\"Adnan\",\"Pakistan\"] \n",
    "getDuplicates(array)"
   ]
  },
  {
   "cell_type": "code",
   "execution_count": 6,
   "metadata": {
    "collapsed": false
   },
   "outputs": [
    {
     "name": "stdout",
     "output_type": "stream",
     "text": [
      "Key: age  already exists\n",
      "Key: language  does not exist\n"
     ]
    }
   ],
   "source": [
    "#6. Write a Python script to check if a given key already exists in a dictionary\n",
    "\n",
    "student = { \"name\":\"Muhammad Adnan\",\n",
    "             \"age\" :29, \n",
    "             \"caste\":\"Rao\",\n",
    "              50:\"Roll Number\",\n",
    "              1000:\"Expenses\",\n",
    "              \"Monthly Income\":150000\n",
    "          }\n",
    "\n",
    "\n",
    "def checkKeyExist(dict, key):\n",
    "    if key in dict.keys():\n",
    "        print( \"Key:\",key,\" already exists\")\n",
    "    else: \n",
    "        print( \"Key:\",key,\" does not exist\")\n",
    "\n",
    "checkKeyExist(student,\"age\");\n",
    "checkKeyExist(student,\"language\");"
   ]
  },
  {
   "cell_type": "code",
   "execution_count": 0,
   "metadata": {
    "collapsed": false
   },
   "outputs": [
   ],
   "source": [
   ]
  }
 ],
 "metadata": {
  "kernelspec": {
   "display_name": "Python 3 (system-wide)",
   "language": "python",
   "metadata": {
    "cocalc": {
     "description": "Python 3 programming language",
     "priority": 100,
     "url": "https://www.python.org/"
    }
   },
   "name": "python3"
  },
  "language_info": {
   "codemirror_mode": {
    "name": "ipython",
    "version": 3
   },
   "file_extension": ".py",
   "mimetype": "text/x-python",
   "name": "python",
   "nbconvert_exporter": "python",
   "pygments_lexer": "ipython3",
   "version": "3.6.8"
  }
 },
 "nbformat": 4,
 "nbformat_minor": 0
}