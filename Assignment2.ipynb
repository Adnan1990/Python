{
 "cells": [
  {
   "cell_type": "code",
   "execution_count": 4,
   "metadata": {},
   "outputs": [
    {
     "name": "stdout",
     "output_type": "stream",
     "text": [
      "Please enter marks of Math: 70\n",
      "Please enter total marks Math: 100\n",
      "Please enter marks of English: 80\n",
      "Please enter total English: 100\n",
      "Please enter marks of Urdu: 50\n",
      "Please enter total marks of Urdu: 100\n",
      "Please enter marks of Phy: 60\n",
      "Please enter total marks of the Phy: 100\n",
      "Please enter marks of the Ch: 20\n",
      "Please enter total marks of Ch: 100\n",
      "\n",
      "\n",
      "\n",
      "Math: Marks Obtained: 70.0  Total Marks: 100.0  Grade:  A\n",
      "English: Marks Obtained: 80.0  Total Marks: 100.0  Grade:  A+\n",
      "Urdu: Marks Obtained: 50.0  Total Marks: 100.0  Grade:  C\n",
      "Phy: Marks Obtained: 60.0  Total Marks: 100.0  Grade:  B\n",
      "Ch: Marks Obtained: 20.0  Total Marks: 100.0  Grade:  F\n",
      "\n",
      "Course Grade :  B\n"
     ]
    }
   ],
   "source": [
    "def getGrade(percentage):\n",
    "    if(percentage>=80.0 and percentage <= 100.0):\n",
    "        return(\"A+\")\n",
    "    elif(percentage >= 70.0 and percentage < 80.0):\n",
    "        return(\"A\")\n",
    "    elif(percentage >= 60.0 and percentage < 70.0):\n",
    "        return(\"B\")\n",
    "    elif(percentage >= 50.0 and percentage < 60.0):\n",
    "        return(\"C\")\n",
    "    elif(percentage >= 40.0 and percentage < 50.0):\n",
    "        return(\"D\")  \n",
    "    elif(percentage >= 33.0 and percentage < 40.0):\n",
    "        return(\"E\")\n",
    "    elif(percentage >= 0.0 and percentage < 33.0):\n",
    "        return(\"F\")         \n",
    "    else:\n",
    "        return(\"Inappropriate Grade\")\n",
    "        \n",
    "\n",
    "sub1=float(input(\"Please enter marks of Math: \"))\n",
    "sub1Total=float(input(\"Please enter total marks Math: \"))\n",
    "\n",
    "sub2=float(input(\"Please enter marks of English: \"))\n",
    "sub2Total=float(input(\"Please enter total English: \"))\n",
    "\n",
    "sub3=float(input(\"Please enter marks of Urdu: \"))\n",
    "sub3Total=float(input(\"Please enter total marks of Urdu: \"))\n",
    "\n",
    "sub4=float(input(\"Please enter marks of Phy: \"))\n",
    "sub4Total=float(input(\"Please enter total marks of the Phy: \"))\n",
    "\n",
    "sub5=float(input(\"Please enter marks of the Ch: \"))\n",
    "sub5Total=float(input(\"Please enter total marks of Ch: \"))\n",
    "\n",
    "\n",
    "perc1 = (sub1/sub1Total)*100.0;\n",
    "perc2 = (sub2/sub2Total)*100.0;\n",
    "perc3 = (sub3/sub3Total)*100.0;\n",
    "perc4 = (sub4/sub4Total)*100.0;\n",
    "perc5 = (sub5/sub5Total)*100.0;\n",
    "\n",
    "print(\"\\n\\n\")\n",
    "\n",
    "print(\"Math: Marks Obtained:\",str(sub1),\" Total Marks:\",str(sub1Total),\" Grade: \",getGrade(perc1))\n",
    "print(\"English: Marks Obtained:\",str(sub2),\" Total Marks:\",str(sub2Total),\" Grade: \",getGrade(perc2))\n",
    "print(\"Urdu: Marks Obtained:\",str(sub3),\" Total Marks:\",str(sub3Total),\" Grade: \",getGrade(perc3))\n",
    "print(\"Phy: Marks Obtained:\",str(sub4),\" Total Marks:\",str(sub4Total),\" Grade: \",getGrade(perc4))\n",
    "print(\"Ch: Marks Obtained:\",str(sub5),\" Total Marks:\",str(sub5Total),\" Grade: \",getGrade(perc5))\n",
    "\n",
    "totalMarkObtained = sub1+sub2+sub3+sub4+sub4\n",
    "totalMarks = sub1Total+sub2Total+sub3Total+sub4Total+sub5Total\n",
    "perc = (totalMarkObtained/totalMarks)*100.0\n",
    "\n",
    "print (\"\\nCourse Grade : \",getGrade(perc))"
   ]
  },
  {
   "cell_type": "code",
   "execution_count": 8,
   "metadata": {},
   "outputs": [
    {
     "name": "stdout",
     "output_type": "stream",
     "text": [
      "Please Enter a number :15\n",
      "15 is an odd Number\n"
     ]
    }
   ],
   "source": [
    "number = int(input(\"Please Enter a number :\"))\n",
    "if number%2==0:\n",
    "    print(str(number)+\" is an even Number\")\n",
    "else:\n",
    "    print(str(number)+\" is an odd Number\")"
   ]
  },
  {
   "cell_type": "code",
   "execution_count": 9,
   "metadata": {},
   "outputs": [
    {
     "name": "stdout",
     "output_type": "stream",
     "text": [
      "Length of  []  is  0\n",
      "Length of  [1, 3, 'Adnan', 'Python']  is  4\n"
     ]
    }
   ],
   "source": [
    "array1 = []\n",
    "array2 = [1,3,\"Adnan\",\"Python\"]\n",
    "\n",
    "print(\"Length of \",array1,\" is \",len(array1))\n",
    "print(\"Length of \",array2,\" is \",len(array2))"
   ]
  },
  {
   "cell_type": "code",
   "execution_count": 7,
   "metadata": {},
   "outputs": [
    {
     "name": "stdout",
     "output_type": "stream",
     "text": [
      "Sum of all numeric items in  [1, 3, 'Adnan', 'Python', 1.5, 4.5, 'Pakistan']  is : 10.0\n"
     ]
    }
   ],
   "source": [
    "array = [1,3,\"Adnan\",\"Python\",1.5,4.5,\"Pakistan\"]\n",
    "\n",
    "sumNumeric=0;\n",
    "\n",
    "def isNumeric(s):\n",
    "    try: \n",
    "        float(s)\n",
    "        return True\n",
    "    except ValueError:\n",
    "        return False\n",
    "    \n",
    "for i in array:\n",
    "    if isNumeric(str(i)):\n",
    "        sumNumeric+=i\n",
    "\n",
    "print(\"Sum of all numeric items in \",array,\" is :\",sumNumeric)"
   ]
  },
  {
   "cell_type": "code",
   "execution_count": 6,
   "metadata": {},
   "outputs": [
    {
     "name": "stdout",
     "output_type": "stream",
     "text": [
      "Largest number in [18, 13, 2, 93, 5, 8, 13, 21, 34, 55, 89]  is : 93\n"
     ]
    }
   ],
   "source": [
    "arr = [18, 13, 2, 93, 5, 8, 13, 21, 34, 55, 89]\n",
    "largest = arr[0]\n",
    "\n",
    "for i in arr:\n",
    "    if largest<i:\n",
    "        largest=i\n",
    "    \n",
    "print(\"Largest number in\",arr,\" is :\", str(largest))"
   ]
  },
  {
   "cell_type": "code",
   "execution_count": 5,
   "metadata": {},
   "outputs": [
    {
     "name": "stdout",
     "output_type": "stream",
     "text": [
      "1 is less than 5\n",
      "1 is less than 5\n",
      "2 is less than 5\n",
      "3 is less than 5\n"
     ]
    }
   ],
   "source": [
    "a = [1, 1, 2, 3, 5, 8, 13, 21, 34, 55, 89]\n",
    "\n",
    "for i in a:\n",
    "    if i<5:\n",
    "        print(i,\"is less than 5\")"
   ]
  },
  {
   "cell_type": "code",
   "execution_count": null,
   "metadata": {},
   "outputs": [],
   "source": []
  }
 ],
 "metadata": {
  "kernelspec": {
   "display_name": "Python 3",
   "language": "python",
   "name": "python3"
  },
  "language_info": {
   "codemirror_mode": {
    "name": "ipython",
    "version": 3
   },
   "file_extension": ".py",
   "mimetype": "text/x-python",
   "name": "python",
   "nbconvert_exporter": "python",
   "pygments_lexer": "ipython3",
   "version": "3.6.7"
  }
 },
 "nbformat": 4,
 "nbformat_minor": 2
}
