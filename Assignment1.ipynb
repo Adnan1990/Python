{
 "cells": [
  {
   "cell_type": "code",
   "execution_count": 1,
   "metadata": {},
   "outputs": [
    {
     "name": "stdout",
     "output_type": "stream",
     "text": [
      "          Twinkle, twinkle, little star,\n",
      "                How I wonder what you are!\n",
      "                      Up above the world so high,\n",
      "                      Like a diamond in the sky.\n",
      "          Twinkle, twinkle, little star,\n",
      "                How I wonder what you are\n"
     ]
    }
   ],
   "source": [
    "space = \" \"\n",
    "print(space*10+\"Twinkle, twinkle, little star,\")\n",
    "print(space*16+\"How I wonder what you are!\")\n",
    "print(space*22+\"Up above the world so high,\")\n",
    "print(space*22+\"Like a diamond in the sky.\")\n",
    "print(space*10+\"Twinkle, twinkle, little star,\")\n",
    "print(space*16+\"How I wonder what you are\")"
   ]
  },
  {
   "cell_type": "code",
   "execution_count": 2,
   "metadata": {},
   "outputs": [
    {
     "name": "stdout",
     "output_type": "stream",
     "text": [
      "Python Version \n",
      "3.6.7 | packaged by conda-forge | (default, Jul  2 2019, 02:18:42) \n",
      "[GCC 7.3.0]\n"
     ]
    }
   ],
   "source": [
    "import sys\n",
    "print(\"Python Version \\n\" + sys.version)"
   ]
  },
  {
   "cell_type": "code",
   "execution_count": 3,
   "metadata": {},
   "outputs": [
    {
     "name": "stdout",
     "output_type": "stream",
     "text": [
      "Current Date and Time:  2019-11-03 14:10:08.907897\n"
     ]
    }
   ],
   "source": [
    "import datetime\n",
    "print(\"Current Date and Time: \", datetime.datetime.now())"
   ]
  },
  {
   "cell_type": "code",
   "execution_count": 4,
   "metadata": {},
   "outputs": [
    {
     "name": "stdout",
     "output_type": "stream",
     "text": [
      "Please Enter radius of the circle :4\n",
      "Area of the circle is :  50.26548245743669\n"
     ]
    }
   ],
   "source": [
    "import math\n",
    "radius = float(input(\"Please Enter radius of the circle :\"))\n",
    "def print_area(r):\n",
    "    area = math.pi*r*r\n",
    "    print(\"Area of the circle is : \", area)\n",
    "print_area(radius)"
   ]
  },
  {
   "cell_type": "code",
   "execution_count": 5,
   "metadata": {},
   "outputs": [
    {
     "name": "stdout",
     "output_type": "stream",
     "text": [
      "Please enter your first name :Adnan\n",
      "Please enter your last name :Rao\n",
      "Rao Adnan\n"
     ]
    }
   ],
   "source": [
    "firstName = input(\"Please enter your first name :\")\n",
    "lastName = input(\"Please enter your last name :\")\n",
    "\n",
    "\n",
    "def full_name(fName, lName):\n",
    "    print(lName+\" \"+fName)\n",
    "\n",
    "\n",
    "full_name(firstName, lastName)"
   ]
  },
  {
   "cell_type": "code",
   "execution_count": 7,
   "metadata": {},
   "outputs": [
    {
     "name": "stdout",
     "output_type": "stream",
     "text": [
      "Please Enter first number :20\n",
      "Please Enter second number :39\n",
      "Addition is : 59.0\n"
     ]
    }
   ],
   "source": [
    "firstNumber = float(input(\"Please Enter first number :\"))\n",
    "secondNumber = float(input(\"Please Enter second number :\"))\n",
    "\n",
    "\n",
    "def addition(first, second):\n",
    "    print(\"Addition is :\", firstNumber+secondNumber)\n",
    "\n",
    "\n",
    "addition(firstNumber, secondNumber)"
   ]
  }
 ],
 "metadata": {
  "kernelspec": {
   "display_name": "Python 3",
   "language": "python",
   "name": "python3"
  },
  "language_info": {
   "codemirror_mode": {
    "name": "ipython",
    "version": 3
   },
   "file_extension": ".py",
   "mimetype": "text/x-python",
   "name": "python",
   "nbconvert_exporter": "python",
   "pygments_lexer": "ipython3",
   "version": "3.6.7"
  }
 },
 "nbformat": 4,
 "nbformat_minor": 2
}
